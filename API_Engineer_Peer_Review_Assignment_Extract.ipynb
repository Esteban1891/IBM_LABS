{
 "cells": [
  {
   "cell_type": "markdown",
   "metadata": {},
   "source": [
    "<center>\n",
    "    <img src=\"https://gitlab.com/ibm/skills-network/courses/placeholder101/-/raw/master/labs/module%201/images/IDSNlogo.png\" width=\"300\" alt=\"cognitiveclass.ai logo\"  />\n",
    "</center>\n"
   ]
  },
  {
   "cell_type": "markdown",
   "metadata": {},
   "source": [
    "# Peer Review Assignment - Data Engineer - Extract API Data\n"
   ]
  },
  {
   "cell_type": "markdown",
   "metadata": {},
   "source": [
    "Estimated time needed: **20** minutes\n"
   ]
  },
  {
   "cell_type": "markdown",
   "metadata": {},
   "source": [
    "## Objectives\n",
    "\n",
    "In this part you will:\n",
    "\n",
    "*   Collect exchange rate data using an API\n",
    "*   Store the data as a CSV\n"
   ]
  },
  {
   "cell_type": "markdown",
   "metadata": {},
   "source": [
    "For this lab, we are going to be using Python and several Python libraries. Some of these libraries might be installed in your lab environment or in SN Labs. Others may need to be installed by you. The cells below will install these libraries when executed.\n"
   ]
  },
  {
   "cell_type": "code",
   "execution_count": 1,
   "metadata": {},
   "outputs": [],
   "source": [
    "#!pip install pandas\n",
    "#!pip install requests"
   ]
  },
  {
   "cell_type": "markdown",
   "metadata": {},
   "source": [
    "## Imports\n",
    "\n",
    "Import any additional libraries you may need here.\n"
   ]
  },
  {
   "cell_type": "code",
   "execution_count": 2,
   "metadata": {},
   "outputs": [],
   "source": [
    "import requests\n",
    "import pandas as pd"
   ]
  },
  {
   "cell_type": "markdown",
   "metadata": {},
   "source": [
    "## Extract Data Using an API\n"
   ]
  },
  {
   "cell_type": "markdown",
   "metadata": {},
   "source": [
    "Using ExchangeRate-API we will extract currency exchange rate data. Use the below steps to get the access key and to get the data.\n",
    "\n",
    "1.  Open the url : [https://exchangeratesapi.io/](https://exchangeratesapi.io/?utm_medium=Exinfluencer&utm_source=Exinfluencer&utm_content=000026UJ&utm_term=10006555&utm_id=NA-SkillsNetwork-Channel-SkillsNetworkCoursesIBMDeveloperSkillsNetworkPY0221ENSkillsNetwork23455645-2021-01-01) and create a free account.\n",
    "2.  Once the account is created. You will get the Get the Free API key option on the top as shown below:\n",
    "\n",
    "<img src=\"https://cf-courses-data.s3.us.cloud-object-storage.appdomain.cloud/IBMDeveloperSkillsNetwork-PY0221EN-SkillsNetwork/labs/module%206/Final%20Assignment/Images/getapi.png\"/>\n",
    "\n",
    "3.  Copy the API key and use in the url in Question 1.\n"
   ]
  },
  {
   "cell_type": "markdown",
   "metadata": {},
   "source": [
    "### Call the API\n",
    "\n",
    "<b> Question 1</b> Using the `requests` library call the endpoint given above and save the text, remember the first few characters of the output:\n"
   ]
  },
  {
   "cell_type": "code",
   "execution_count": 92,
   "metadata": {},
   "outputs": [
    {
     "data": {
      "text/plain": [
       "{'success': True,\n",
       " 'timestamp': 1648361643,\n",
       " 'base': 'EUR',\n",
       " 'date': '2022-03-27',\n",
       " 'rates': {'AED': 4.034381,\n",
       "  'AFN': 96.767441,\n",
       "  'ALL': 122.024163,\n",
       "  'AMD': 538.300137,\n",
       "  'ANG': 1.985542,\n",
       "  'AOA': 500.433077,\n",
       "  'ARS': 121.876882,\n",
       "  'AUD': 1.461943,\n",
       "  'AWG': 1.977593,\n",
       "  'AZN': 1.871568,\n",
       "  'BAM': 1.955576,\n",
       "  'BBD': 2.224511,\n",
       "  'BDT': 95.050164,\n",
       "  'BGN': 1.955669,\n",
       "  'BHD': 0.415346,\n",
       "  'BIF': 2259.616737,\n",
       "  'BMD': 1.098357,\n",
       "  'BND': 1.493906,\n",
       "  'BOB': 7.574317,\n",
       "  'BRL': 5.2097,\n",
       "  'BSD': 1.101757,\n",
       "  'BTC': 2.4580836e-05,\n",
       "  'BTN': 83.880214,\n",
       "  'BWP': 12.619862,\n",
       "  'BYN': 3.588234,\n",
       "  'BYR': 21527.806023,\n",
       "  'BZD': 2.220712,\n",
       "  'CAD': 1.371574,\n",
       "  'CDF': 2210.993945,\n",
       "  'CHF': 1.020709,\n",
       "  'CLF': 0.031511,\n",
       "  'CLP': 869.471156,\n",
       "  'CNY': 6.992478,\n",
       "  'COP': 4172.158518,\n",
       "  'CRC': 718.57674,\n",
       "  'CUC': 1.098357,\n",
       "  'CUP': 29.106472,\n",
       "  'CVE': 110.250691,\n",
       "  'CZK': 24.555323,\n",
       "  'DJF': 196.134545,\n",
       "  'DKK': 7.440329,\n",
       "  'DOP': 60.418159,\n",
       "  'DZD': 156.509687,\n",
       "  'EGP': 20.381655,\n",
       "  'ERN': 16.475367,\n",
       "  'ETB': 56.572358,\n",
       "  'EUR': 1,\n",
       "  'FJD': 2.287824,\n",
       "  'FKP': 0.842395,\n",
       "  'GBP': 0.832688,\n",
       "  'GEL': 3.526157,\n",
       "  'GGP': 0.842395,\n",
       "  'GHS': 8.070053,\n",
       "  'GIP': 0.842395,\n",
       "  'GMD': 59.42537,\n",
       "  'GNF': 9855.920854,\n",
       "  'GTQ': 8.471601,\n",
       "  'GYD': 230.510083,\n",
       "  'HKD': 8.599814,\n",
       "  'HNL': 27.04449,\n",
       "  'HRK': 7.576914,\n",
       "  'HTG': 115.88196,\n",
       "  'HUF': 372.73901,\n",
       "  'IDR': 15769.557255,\n",
       "  'ILS': 3.531132,\n",
       "  'IMP': 0.842395,\n",
       "  'INR': 83.788752,\n",
       "  'IQD': 1607.951313,\n",
       "  'IRR': 46460.52053,\n",
       "  'ISK': 142.611155,\n",
       "  'JEP': 0.842395,\n",
       "  'JMD': 168.81509,\n",
       "  'JOD': 0.778779,\n",
       "  'JPY': 134.103996,\n",
       "  'KES': 126.421492,\n",
       "  'KGS': 104.608007,\n",
       "  'KHR': 4458.62134,\n",
       "  'KMF': 491.899806,\n",
       "  'KPW': 988.52209,\n",
       "  'KRW': 1345.982559,\n",
       "  'KWD': 0.334066,\n",
       "  'KYD': 0.918081,\n",
       "  'KZT': 542.999527,\n",
       "  'LAK': 12843.233147,\n",
       "  'LBP': 1665.983781,\n",
       "  'LKR': 319.489235,\n",
       "  'LRD': 168.104027,\n",
       "  'LSL': 15.98152,\n",
       "  'LTL': 3.243164,\n",
       "  'LVL': 0.664386,\n",
       "  'LYD': 5.140933,\n",
       "  'MAD': 10.670115,\n",
       "  'MDL': 20.18888,\n",
       "  'MGA': 4455.321768,\n",
       "  'MKD': 61.607004,\n",
       "  'MMK': 1959.009451,\n",
       "  'MNT': 3161.921542,\n",
       "  'MOP': 8.881947,\n",
       "  'MRO': 392.113421,\n",
       "  'MUR': 48.813665,\n",
       "  'MVR': 16.918814,\n",
       "  'MWK': 900.049188,\n",
       "  'MXN': 22.004717,\n",
       "  'MYR': 4.624638,\n",
       "  'MZN': 70.108571,\n",
       "  'NAD': 15.981515,\n",
       "  'NGN': 456.642524,\n",
       "  'NIO': 39.402886,\n",
       "  'NOK': 9.448423,\n",
       "  'NPR': 134.208582,\n",
       "  'NZD': 1.575045,\n",
       "  'OMR': 0.422855,\n",
       "  'PAB': 1.101657,\n",
       "  'PEN': 4.117666,\n",
       "  'PGK': 3.881996,\n",
       "  'PHP': 57.235818,\n",
       "  'PKR': 200.759445,\n",
       "  'PLN': 4.680538,\n",
       "  'PYG': 7669.504617,\n",
       "  'QAR': 3.999162,\n",
       "  'RON': 4.948764,\n",
       "  'RSD': 117.634733,\n",
       "  'RUB': 112.032834,\n",
       "  'RWF': 1119.644687,\n",
       "  'SAR': 4.12025,\n",
       "  'SBD': 8.825728,\n",
       "  'SCR': 15.832865,\n",
       "  'SDG': 490.966153,\n",
       "  'SEK': 10.390034,\n",
       "  'SGD': 1.491684,\n",
       "  'SHP': 1.512882,\n",
       "  'SLL': 13021.027944,\n",
       "  'SOS': 642.53948,\n",
       "  'SRD': 22.711877,\n",
       "  'STD': 22733.781644,\n",
       "  'SVC': 9.639749,\n",
       "  'SYP': 2759.074286,\n",
       "  'SZL': 16.051917,\n",
       "  'THB': 36.908147,\n",
       "  'TJS': 14.32774,\n",
       "  'TMT': 3.855235,\n",
       "  'TND': 3.243491,\n",
       "  'TOP': 2.470247,\n",
       "  'TRY': 16.294906,\n",
       "  'TTD': 7.494027,\n",
       "  'TWD': 31.50463,\n",
       "  'TZS': 2555.968275,\n",
       "  'UAH': 32.528078,\n",
       "  'UGX': 3966.18525,\n",
       "  'USD': 1.098357,\n",
       "  'UYU': 46.640947,\n",
       "  'UZS': 12680.214304,\n",
       "  'VEF': 234862017777.79776,\n",
       "  'VND': 25112.295562,\n",
       "  'VUV': 125.340822,\n",
       "  'WST': 2.879944,\n",
       "  'XAF': 655.871878,\n",
       "  'XAG': 0.043044,\n",
       "  'XAU': 0.000561,\n",
       "  'XCD': 2.968366,\n",
       "  'XDR': 0.799396,\n",
       "  'XOF': 655.871878,\n",
       "  'XPF': 119.721327,\n",
       "  'YER': 274.864352,\n",
       "  'ZAR': 16.011179,\n",
       "  'ZMK': 9886.539027,\n",
       "  'ZMW': 19.638051,\n",
       "  'ZWL': 353.670651}}"
      ]
     },
     "execution_count": 92,
     "metadata": {},
     "output_type": "execute_result"
    }
   ],
   "source": [
    "# Write your code here\n",
    "url = \"http://api.exchangeratesapi.io/v1/latest?base=EUR&access_key=6f9aae2cd120c9c81c25553b2c799a0b\"  #Make sure to change ******* to your API key.\n",
    "data = requests.get(url).json()\n",
    "data"
   ]
  },
  {
   "cell_type": "markdown",
   "metadata": {},
   "source": [
    "### Save as DataFrame\n",
    "\n",
    "<b> Question 2</b>  Using the data gathered turn it into a `pandas` dataframe. The dataframe should have the Currency as the index and `Rate` as their columns. Make sure to drop unnecessary columns.\n"
   ]
  },
  {
   "cell_type": "code",
   "execution_count": 85,
   "metadata": {},
   "outputs": [
    {
     "data": {
      "text/html": [
       "<div>\n",
       "<style scoped>\n",
       "    .dataframe tbody tr th:only-of-type {\n",
       "        vertical-align: middle;\n",
       "    }\n",
       "\n",
       "    .dataframe tbody tr th {\n",
       "        vertical-align: top;\n",
       "    }\n",
       "\n",
       "    .dataframe thead th {\n",
       "        text-align: right;\n",
       "    }\n",
       "</style>\n",
       "<table border=\"1\" class=\"dataframe\">\n",
       "  <thead>\n",
       "    <tr style=\"text-align: right;\">\n",
       "      <th></th>\n",
       "      <th>success</th>\n",
       "      <th>timestamp</th>\n",
       "      <th>base</th>\n",
       "      <th>date</th>\n",
       "      <th>rates</th>\n",
       "    </tr>\n",
       "  </thead>\n",
       "  <tbody>\n",
       "    <tr>\n",
       "      <th>AED</th>\n",
       "      <td>True</td>\n",
       "      <td>1648361643</td>\n",
       "      <td>EUR</td>\n",
       "      <td>2022-03-27</td>\n",
       "      <td>4.034381</td>\n",
       "    </tr>\n",
       "    <tr>\n",
       "      <th>AFN</th>\n",
       "      <td>True</td>\n",
       "      <td>1648361643</td>\n",
       "      <td>EUR</td>\n",
       "      <td>2022-03-27</td>\n",
       "      <td>96.767441</td>\n",
       "    </tr>\n",
       "    <tr>\n",
       "      <th>ALL</th>\n",
       "      <td>True</td>\n",
       "      <td>1648361643</td>\n",
       "      <td>EUR</td>\n",
       "      <td>2022-03-27</td>\n",
       "      <td>122.024163</td>\n",
       "    </tr>\n",
       "    <tr>\n",
       "      <th>AMD</th>\n",
       "      <td>True</td>\n",
       "      <td>1648361643</td>\n",
       "      <td>EUR</td>\n",
       "      <td>2022-03-27</td>\n",
       "      <td>538.300137</td>\n",
       "    </tr>\n",
       "    <tr>\n",
       "      <th>ANG</th>\n",
       "      <td>True</td>\n",
       "      <td>1648361643</td>\n",
       "      <td>EUR</td>\n",
       "      <td>2022-03-27</td>\n",
       "      <td>1.985542</td>\n",
       "    </tr>\n",
       "    <tr>\n",
       "      <th>...</th>\n",
       "      <td>...</td>\n",
       "      <td>...</td>\n",
       "      <td>...</td>\n",
       "      <td>...</td>\n",
       "      <td>...</td>\n",
       "    </tr>\n",
       "    <tr>\n",
       "      <th>YER</th>\n",
       "      <td>True</td>\n",
       "      <td>1648361643</td>\n",
       "      <td>EUR</td>\n",
       "      <td>2022-03-27</td>\n",
       "      <td>274.864352</td>\n",
       "    </tr>\n",
       "    <tr>\n",
       "      <th>ZAR</th>\n",
       "      <td>True</td>\n",
       "      <td>1648361643</td>\n",
       "      <td>EUR</td>\n",
       "      <td>2022-03-27</td>\n",
       "      <td>16.011179</td>\n",
       "    </tr>\n",
       "    <tr>\n",
       "      <th>ZMK</th>\n",
       "      <td>True</td>\n",
       "      <td>1648361643</td>\n",
       "      <td>EUR</td>\n",
       "      <td>2022-03-27</td>\n",
       "      <td>9886.539027</td>\n",
       "    </tr>\n",
       "    <tr>\n",
       "      <th>ZMW</th>\n",
       "      <td>True</td>\n",
       "      <td>1648361643</td>\n",
       "      <td>EUR</td>\n",
       "      <td>2022-03-27</td>\n",
       "      <td>19.638051</td>\n",
       "    </tr>\n",
       "    <tr>\n",
       "      <th>ZWL</th>\n",
       "      <td>True</td>\n",
       "      <td>1648361643</td>\n",
       "      <td>EUR</td>\n",
       "      <td>2022-03-27</td>\n",
       "      <td>353.670651</td>\n",
       "    </tr>\n",
       "  </tbody>\n",
       "</table>\n",
       "<p>168 rows × 5 columns</p>\n",
       "</div>"
      ],
      "text/plain": [
       "     success   timestamp base        date        rates\n",
       "AED     True  1648361643  EUR  2022-03-27     4.034381\n",
       "AFN     True  1648361643  EUR  2022-03-27    96.767441\n",
       "ALL     True  1648361643  EUR  2022-03-27   122.024163\n",
       "AMD     True  1648361643  EUR  2022-03-27   538.300137\n",
       "ANG     True  1648361643  EUR  2022-03-27     1.985542\n",
       "..       ...         ...  ...         ...          ...\n",
       "YER     True  1648361643  EUR  2022-03-27   274.864352\n",
       "ZAR     True  1648361643  EUR  2022-03-27    16.011179\n",
       "ZMK     True  1648361643  EUR  2022-03-27  9886.539027\n",
       "ZMW     True  1648361643  EUR  2022-03-27    19.638051\n",
       "ZWL     True  1648361643  EUR  2022-03-27   353.670651\n",
       "\n",
       "[168 rows x 5 columns]"
      ]
     },
     "execution_count": 85,
     "metadata": {},
     "output_type": "execute_result"
    }
   ],
   "source": [
    "# Turn the data into a dataframe\n",
    "df = pd.DataFrame(data)\n",
    "df"
   ]
  },
  {
   "cell_type": "code",
   "execution_count": 90,
   "metadata": {},
   "outputs": [
    {
     "data": {
      "text/html": [
       "<div>\n",
       "<style scoped>\n",
       "    .dataframe tbody tr th:only-of-type {\n",
       "        vertical-align: middle;\n",
       "    }\n",
       "\n",
       "    .dataframe tbody tr th {\n",
       "        vertical-align: top;\n",
       "    }\n",
       "\n",
       "    .dataframe thead th {\n",
       "        text-align: right;\n",
       "    }\n",
       "</style>\n",
       "<table border=\"1\" class=\"dataframe\">\n",
       "  <thead>\n",
       "    <tr style=\"text-align: right;\">\n",
       "      <th></th>\n",
       "      <th>rates</th>\n",
       "    </tr>\n",
       "  </thead>\n",
       "  <tbody>\n",
       "    <tr>\n",
       "      <th>AED</th>\n",
       "      <td>4.034381</td>\n",
       "    </tr>\n",
       "    <tr>\n",
       "      <th>AFN</th>\n",
       "      <td>96.767441</td>\n",
       "    </tr>\n",
       "    <tr>\n",
       "      <th>ALL</th>\n",
       "      <td>122.024163</td>\n",
       "    </tr>\n",
       "    <tr>\n",
       "      <th>AMD</th>\n",
       "      <td>538.300137</td>\n",
       "    </tr>\n",
       "    <tr>\n",
       "      <th>ANG</th>\n",
       "      <td>1.985542</td>\n",
       "    </tr>\n",
       "    <tr>\n",
       "      <th>...</th>\n",
       "      <td>...</td>\n",
       "    </tr>\n",
       "    <tr>\n",
       "      <th>YER</th>\n",
       "      <td>274.864352</td>\n",
       "    </tr>\n",
       "    <tr>\n",
       "      <th>ZAR</th>\n",
       "      <td>16.011179</td>\n",
       "    </tr>\n",
       "    <tr>\n",
       "      <th>ZMK</th>\n",
       "      <td>9886.539027</td>\n",
       "    </tr>\n",
       "    <tr>\n",
       "      <th>ZMW</th>\n",
       "      <td>19.638051</td>\n",
       "    </tr>\n",
       "    <tr>\n",
       "      <th>ZWL</th>\n",
       "      <td>353.670651</td>\n",
       "    </tr>\n",
       "  </tbody>\n",
       "</table>\n",
       "<p>168 rows × 1 columns</p>\n",
       "</div>"
      ],
      "text/plain": [
       "           rates\n",
       "AED     4.034381\n",
       "AFN    96.767441\n",
       "ALL   122.024163\n",
       "AMD   538.300137\n",
       "ANG     1.985542\n",
       "..           ...\n",
       "YER   274.864352\n",
       "ZAR    16.011179\n",
       "ZMK  9886.539027\n",
       "ZMW    19.638051\n",
       "ZWL   353.670651\n",
       "\n",
       "[168 rows x 1 columns]"
      ]
     },
     "execution_count": 90,
     "metadata": {},
     "output_type": "execute_result"
    }
   ],
   "source": [
    "# Drop unnescessary columns\n",
    "#df  = df.loc[:, ~df.columns.isin(['success', 'timestamp', 'base','dates'])]\n",
    "# or\n",
    "df.drop(['success','timestamp','base','date'], inplace=True, axis=1)\n",
    "df"
   ]
  },
  {
   "cell_type": "markdown",
   "metadata": {},
   "source": [
    "### Load the Data\n",
    "\n",
    "Using the dataframe save it as a CSV names `exchange_rates_1.csv`.\n"
   ]
  },
  {
   "cell_type": "code",
   "execution_count": 91,
   "metadata": {},
   "outputs": [],
   "source": [
    "# Save the Dataframe\n",
    "df.to_csv('exchange_rates_1.csv')"
   ]
  },
  {
   "cell_type": "markdown",
   "metadata": {},
   "source": [
    "Your CSV should be in this format with more currencies\n",
    "\n",
    "|     | Rates      |\n",
    "| --- | ---------- |\n",
    "| AED | 4.398618   |\n",
    "| AFN | 92.917693  |\n",
    "| ALL | 123.099093 |\n",
    "| AMD | 621.935674 |\n",
    "| ANG | 2.149648   |\n"
   ]
  },
  {
   "cell_type": "markdown",
   "metadata": {},
   "source": [
    "## Authors\n"
   ]
  },
  {
   "cell_type": "markdown",
   "metadata": {},
   "source": [
    "Ramesh Sannareddy, Joseph Santarcangelo and Azim Hirjani\n"
   ]
  },
  {
   "cell_type": "markdown",
   "metadata": {},
   "source": [
    "### Other Contributors\n"
   ]
  },
  {
   "cell_type": "markdown",
   "metadata": {},
   "source": [
    "Rav Ahuja\n"
   ]
  },
  {
   "cell_type": "markdown",
   "metadata": {},
   "source": [
    "## Change Log\n"
   ]
  },
  {
   "cell_type": "markdown",
   "metadata": {},
   "source": [
    "| Date (YYYY-MM-DD) | Version | Changed By        | Change Description                 |\n",
    "| ----------------- | ------- | ----------------- | ---------------------------------- |\n",
    "| 2021-04-15        | 0.2     | Malika            | Updated the lab from USD to EUR    |\n",
    "| 2020-11-25        | 0.1     | Ramesh Sannareddy | Created initial version of the lab |\n"
   ]
  },
  {
   "cell_type": "markdown",
   "metadata": {},
   "source": [
    "Copyright © 2020 IBM Corporation. This notebook and its source code are released under the terms of the [MIT License](https://cognitiveclass.ai/mit-license?utm_medium=Exinfluencer&utm_source=Exinfluencer&utm_content=000026UJ&utm_term=10006555&utm_id=NA-SkillsNetwork-Channel-SkillsNetworkCoursesIBMDeveloperSkillsNetworkPY0221ENSkillsNetwork23455645-2021-01-01&cm_mmc=Email_Newsletter-\\_-Developer_Ed%2BTech-\\_-WW_WW-\\_-SkillsNetwork-Courses-IBM-DA0321EN-SkillsNetwork-21426264&cm_mmca1=000026UJ&cm_mmca2=10006555&cm_mmca3=M12345678&cvosrc=email.Newsletter.M12345678&cvo_campaign=000026UJ).\n"
   ]
  }
 ],
 "metadata": {
  "kernelspec": {
   "display_name": "Python",
   "language": "python",
   "name": "conda-env-python-py"
  },
  "language_info": {
   "codemirror_mode": {
    "name": "ipython",
    "version": 3
   },
   "file_extension": ".py",
   "mimetype": "text/x-python",
   "name": "python",
   "nbconvert_exporter": "python",
   "pygments_lexer": "ipython3",
   "version": "3.7.12"
  }
 },
 "nbformat": 4,
 "nbformat_minor": 4
}
